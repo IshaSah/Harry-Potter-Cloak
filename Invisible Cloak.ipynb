{
 "cells": [
  {
   "cell_type": "code",
   "execution_count": null,
   "metadata": {},
   "outputs": [],
   "source": [
    "import cv2\n",
    "import numpy as np\n",
    "import time\n",
    "\n"
   ]
  },
  {
   "cell_type": "code",
   "execution_count": null,
   "metadata": {},
   "outputs": [],
   "source": [
    "#acceing camera\n",
    "cap = cv2.VideoCapture(0)       #to access camera\n"
   ]
  },
  {
   "cell_type": "code",
   "execution_count": null,
   "metadata": {},
   "outputs": [],
   "source": [
    "#capturing frames\n",
    "a, background = cap.read()      #captures frames from webcam\n",
    "time.sleep(3)                   #2 sec gap b/w capturing the background frames\n",
    "a, background = cap.read()\n"
   ]
  },
  {
   "cell_type": "code",
   "execution_count": null,
   "metadata": {},
   "outputs": [],
   "source": [
    "#define all the kernels size  \n",
    "open_kernel = np.ones((20,20),np.uint8)\n",
    "close_kernel = np.ones((20,20),np.uint8)\n",
    "dilation_kernel = np.ones((20, 20), np.uint8)"
   ]
  },
  {
   "cell_type": "code",
   "execution_count": null,
   "metadata": {},
   "outputs": [],
   "source": [
    "#removing noise\n",
    "def filter_mask(mask):\n",
    "    close_mask = cv2.morphologyEx(mask, cv2.MORPH_CLOSE, close_kernel)\n",
    "    open_mask = cv2.morphologyEx(close_mask, cv2.MORPH_OPEN, open_kernel)\n",
    "    dilation = cv2.dilate(open_mask, dilation_kernel, iterations= 1)\n",
    "    return dilation"
   ]
  },
  {
   "cell_type": "code",
   "execution_count": null,
   "metadata": {},
   "outputs": [],
   "source": [
    "#masking\n",
    "while cap.isOpened():\n",
    "    a,frame=cap.read()\n",
    "    hsv = cv2.cvtColor(frame, cv2.COLOR_BGR2HSV)\n",
    "    lower_bound = np.array([50,80,50])\n",
    "    upper_bound = np.array([90,255,255])\n",
    "    mask = cv2.inRange(hsv, lower_bound, upper_bound)\n",
    "    mask = filter_mask(mask)\n",
    "    cloak = cv2.bitwise_and(background, background, mask=mask) #apply mask to take only those regions from the saved background \n",
    "                                                            #where our cloak is present in the current frame\n",
    "    inverse_mask = cv2.bitwise_not(mask)\n",
    "    current_background = cv2.bitwise_and(frame, frame, mask=inverse_mask)\n",
    "    combined = cv2.add(cloak, current_background)\n",
    "    \n",
    "    cv2.imshow(\"Invisible Cloak\", combined)\n",
    "\n",
    "\n",
    "    if cv2.waitKey(1) == ord('q'):\n",
    "        break\n",
    "    \n",
    "cap.release()\n",
    "cv2.destroyAllWindows()\n"
   ]
  },
  {
   "cell_type": "code",
   "execution_count": null,
   "metadata": {},
   "outputs": [],
   "source": []
  }
 ],
 "metadata": {
  "kernelspec": {
   "display_name": "Python 3",
   "language": "python",
   "name": "python3"
  },
  "language_info": {
   "codemirror_mode": {
    "name": "ipython",
    "version": 3
   },
   "file_extension": ".py",
   "mimetype": "text/x-python",
   "name": "python",
   "nbconvert_exporter": "python",
   "pygments_lexer": "ipython3",
   "version": "3.8.5"
  }
 },
 "nbformat": 4,
 "nbformat_minor": 4
}
